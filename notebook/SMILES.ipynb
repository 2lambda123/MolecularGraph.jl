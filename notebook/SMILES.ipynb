{
 "cells": [
  {
   "cell_type": "markdown",
   "metadata": {},
   "source": [
    "# Working with SMILES\n",
    "\n",
    "- `MolecularGraphIO.smilestomol` converts SMILES string into `Molecule` object.\n",
    "\n",
    "## Notes\n",
    "\n",
    "-  2D coords generation is not yet available. `drawsvg` does not work well with SMILES molecules."
   ]
  },
  {
   "cell_type": "code",
   "execution_count": null,
   "metadata": {
    "ExecuteTime": {
     "end_time": "2020-02-24T11:45:50.046000+09:00",
     "start_time": "2020-02-24T02:45:48.084Z"
    }
   },
   "outputs": [],
   "source": [
    "import Pkg\n",
    "Pkg.activate(\"..\")\n",
    "\n",
    "using MolecularGraph"
   ]
  },
  {
   "cell_type": "code",
   "execution_count": null,
   "metadata": {
    "ExecuteTime": {
     "end_time": "2020-02-24T11:46:12.806000+09:00",
     "start_time": "2020-02-24T02:46:10.676Z"
    },
    "scrolled": true
   },
   "outputs": [],
   "source": [
    "mol = smilestomol(\"COC1CC=CC1C\")\n",
    "mol_svg = drawsvg(mol, 200, 200)\n",
    "display(\"image/svg+xml\",  mol_svg)"
   ]
  }
 ],
 "metadata": {
  "kernelspec": {
   "display_name": "Julia 1.3.1",
   "language": "julia",
   "name": "julia-1.3"
  },
  "language_info": {
   "file_extension": ".jl",
   "mimetype": "application/julia",
   "name": "julia",
   "version": "1.3.1"
  }
 },
 "nbformat": 4,
 "nbformat_minor": 2
}
