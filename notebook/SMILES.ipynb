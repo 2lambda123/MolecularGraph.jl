{
 "cells": [
  {
   "cell_type": "markdown",
   "metadata": {},
   "source": [
    "# Working with SMILES\n",
    "\n",
    "- `GraphMolIO.smilestomol` converts SMILES string into `MolecularGraph` object.\n",
    "- As SMILES has no coordinate information, `Drawing.coords2d!` should be applied to determine 2D coordinate."
   ]
  },
  {
   "cell_type": "code",
   "execution_count": 2,
   "metadata": {
    "ExecuteTime": {
     "end_time": "2018-10-25T10:51:47.924000+09:00",
     "start_time": "2018-10-25T01:51:47.771Z"
    }
   },
   "outputs": [
    {
     "data": {
      "image/svg+xml": [
       "<svg xmlns=\"http://www.w3.org/2000/svg\"\n",
       " xmlns:xlink=\"http://www.w3.org/1999/xlink\"\n",
       " version=\"1.2\" baseProfile=\"tiny\"\n",
       " text-rendering=\"geometricPrecision\"\n",
       " preserveAspectRatio=\"xMidYMid meet\"\n",
       " font-weight=\"normal\"\n",
       " font-family=\"Helvetica\"\n",
       " width=\"200\" height=\"200\"\n",
       " viewBox=\"0 0 160.24 128.61\">\n",
       "<rect x=\"0\" y=\"0\" width=\"160.24\" height=\"128.61\"\n",
       " fill=\"rgb(255, 255, 255)\" opacity=\"0\"/>\n",
       "<line x1=\"30.00\" y1=\"45.00\"\n",
       " x2=\"39.09\" y2=\"39.75\" stroke=\"rgb(0, 0, 0)\" />\n",
       "<line x1=\"39.09\" y1=\"39.75\"\n",
       " x2=\"48.19\" y2=\"34.50\" stroke=\"rgb(255, 0, 0)\" />\n",
       "<line x1=\"63.77\" y1=\"34.50\"\n",
       " x2=\"72.87\" y2=\"39.75\" stroke=\"rgb(255, 0, 0)\" />\n",
       "<line x1=\"72.87\" y1=\"39.75\"\n",
       " x2=\"81.96\" y2=\"45.00\" stroke=\"rgb(0, 0, 0)\" />\n",
       "<line x1=\"81.96\" y1=\"45.00\"\n",
       " x2=\"107.94\" y2=\"30.00\" stroke=\"rgb(0, 0, 0)\" />\n",
       "<line x1=\"107.94\" y1=\"30.00\"\n",
       " x2=\"130.24\" y2=\"50.07\" stroke=\"rgb(0, 0, 0)\" />\n",
       "<line x1=\"130.24\" y1=\"50.07\"\n",
       " x2=\"118.03\" y2=\"77.48\" stroke=\"rgb(0, 0, 0)\" />\n",
       "<line x1=\"124.91\" y1=\"50.98\"\n",
       " x2=\"115.14\" y2=\"72.91\" stroke=\"rgb(0, 0, 0)\" />\n",
       "<line x1=\"81.96\" y1=\"45.00\"\n",
       " x2=\"88.20\" y2=\"74.34\" stroke=\"rgb(0, 0, 0)\" />\n",
       "<line x1=\"118.03\" y1=\"77.48\"\n",
       " x2=\"88.20\" y2=\"74.34\" stroke=\"rgb(0, 0, 0)\" />\n",
       "<line x1=\"88.20\" y1=\"74.34\"\n",
       " x2=\"70.57\" y2=\"98.61\" stroke=\"rgb(0, 0, 0)\" />\n",
       "<text x=\"55.98\" y=\"37.00\" font-size=\"14\"\n",
       " fill=\"rgb(255, 0, 0)\" text-anchor=\"middle\" >O</text>\n",
       "</svg>\n"
      ]
     },
     "metadata": {},
     "output_type": "display_data"
    }
   ],
   "source": [
    "import Pkg\n",
    "Pkg.activate(\"..\")\n",
    "\n",
    "using GraphMol.GraphMolIO\n",
    "using GraphMol.Drawing\n",
    "\n",
    "mol = smilestomol(\"COC1CC=CC1C\")\n",
    "coords2d!(mol)\n",
    "\n",
    "mol_svg = drawsvg!(mol, 200, 200)\n",
    "display(\"image/svg+xml\",  mol_svg)"
   ]
  }
 ],
 "metadata": {
  "kernelspec": {
   "display_name": "Julia 1.0.1",
   "language": "julia",
   "name": "julia-1.0"
  },
  "language_info": {
   "file_extension": ".jl",
   "mimetype": "application/julia",
   "name": "julia",
   "version": "1.0.1"
  }
 },
 "nbformat": 4,
 "nbformat_minor": 2
}
