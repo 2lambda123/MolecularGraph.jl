{
 "cells": [
  {
   "cell_type": "code",
   "execution_count": 25,
   "metadata": {
    "ExecuteTime": {
     "end_time": "2018-11-06T04:01:55.579091Z",
     "start_time": "2018-11-06T04:01:55.575726Z"
    }
   },
   "outputs": [],
   "source": [
    "from chorus import v2000reader as reader\n",
    "from chorus.draw.svg import SVG\n"
   ]
  },
  {
   "cell_type": "code",
   "execution_count": 26,
   "metadata": {
    "ExecuteTime": {
     "end_time": "2018-11-06T04:02:07.265794Z",
     "start_time": "2018-11-06T04:01:57.903811Z"
    }
   },
   "outputs": [],
   "source": [
    "for mol in reader.mols_from_file(\"../_resources/DrugBank_FDA_Approved.sdf\"):\n",
    "    svg = SVG(mol)\n",
    "    svg.contents()\n"
   ]
  },
  {
   "cell_type": "code",
   "execution_count": 23,
   "metadata": {
    "ExecuteTime": {
     "end_time": "2018-11-06T04:01:41.172567Z",
     "start_time": "2018-11-06T04:01:41.163732Z"
    }
   },
   "outputs": [],
   "source": [
    "from rdkit import Chem\n",
    "from rdkit.Chem.Draw import rdMolDraw2D\n",
    "from IPython.display import SVG as ISVG\n",
    "\n",
    "def drawsvg(mol):\n",
    "    drawer = rdMolDraw2D.MolDraw2DSVG(400,400)\n",
    "    drawer.DrawMolecule(mol)\n",
    "    drawer.FinishDrawing()\n",
    "    svg = drawer.GetDrawingText().replace('svg:','')\n",
    "    ISVG(svg)\n"
   ]
  },
  {
   "cell_type": "code",
   "execution_count": 24,
   "metadata": {
    "ExecuteTime": {
     "end_time": "2018-11-06T04:01:51.836906Z",
     "start_time": "2018-11-06T04:01:43.718212Z"
    }
   },
   "outputs": [],
   "source": [
    "for mol in Chem.SDMolSupplier(\"../_resources/DrugBank_FDA_Approved.sdf\"):\n",
    "    if mol is None:\n",
    "        continue\n",
    "    drawsvg(mol)\n"
   ]
  }
 ],
 "metadata": {
  "kernelspec": {
   "display_name": "Python 3",
   "language": "python",
   "name": "python3"
  },
  "language_info": {
   "codemirror_mode": {
    "name": "ipython",
    "version": 3
   },
   "file_extension": ".py",
   "mimetype": "text/x-python",
   "name": "python",
   "nbconvert_exporter": "python",
   "pygments_lexer": "ipython3",
   "version": "3.6.3"
  }
 },
 "nbformat": 4,
 "nbformat_minor": 2
}
