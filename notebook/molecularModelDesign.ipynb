{
 "cells": [
  {
   "cell_type": "markdown",
   "metadata": {
    "ExecuteTime": {
     "end_time": "2018-11-07T13:33:04.184000+09:00",
     "start_time": "2018-11-07T04:32:59.651Z"
    }
   },
   "source": [
    "\n",
    "# Design of molecular models\n",
    "\n",
    "\n",
    "\n",
    "## Molecule\n",
    "\n",
    "\n",
    "- MolGraph\n",
    "  - MapMolGraph\n",
    "    - GeneralMapMol{A<:Atom, B<:Bond}\n",
    "      - SDFile (Alias of GeneralMapMol{SDFileAtom, SDFileBond})\n",
    "      - SMILES (Alias of GeneralMapMol{SmilesAtom, SmilesBond})\n",
    "  - QueryMolGraph\n",
    "    - ConnectedQueryMol{A<:QueryAtom, B<:QueryBond}\n",
    "      - ConnectedSMARTS (Alias of ConnectedQueryMol{SmartsAtom, SmartsBond})\n",
    "    - DisconnectedQueryMol{A<:QueryAtom, B<:QueryBond}\n",
    "      - SMARTS (Alias of DisconnectedQueryMol{SmartsAtom, SmartsBond})\n",
    "  - VectorMolGraph\n",
    "    - GeneralVectorMol{A<:Atom, B<:Bond}\n",
    "  - MapMolView\n",
    "  - QueryMolView\n",
    "  - VectorMolView\n",
    "\n",
    "\n",
    "\n",
    "### AbstractMol\n",
    "\n",
    "`MolGraph` is the base type of all molecular objects. Fundamental graph element accessor functions and counting functions are available in all molecular model objects.\n",
    "\n",
    "\n",
    "#### Methods\n",
    "\n",
    "- getatom\n",
    "- getbond\n",
    "- neighbors\n",
    "- neighborcount (or degree)\n",
    "- atomcount\n",
    "- bondcount\n"
   ]
  },
  {
   "cell_type": "markdown",
   "metadata": {},
   "source": [
    "### MapMol\n",
    "\n",
    "`MapMol` is used as a molecular model builder for general purpose.\n",
    "\n",
    "This type inherits `AbstractMapMol`, a molecular graph model which have map(dict)-based structure. The map-based molecular graph can insert and delete elements (atoms and bonds). This can be easily converted to `VectorMol` object by using `vectormol` method \n",
    "\n",
    "\n",
    "#### Methods\n",
    "\n",
    "- updateatom!\n",
    "- updatebond!\n",
    "- unlinkatom!\n",
    "- unlinkbond!\n",
    "- vectormol\n"
   ]
  },
  {
   "cell_type": "markdown",
   "metadata": {},
   "source": [
    "\n",
    "### QueryMol\n",
    "\n",
    "`QueryMol` consists of `QueryAtom`s and `QueryBond`s that represents molecular query (ex. atom symbol is 'O' and charge is -1, bond order is 1 and not in rings, ...). This type of objects typically built from SMARTS query.\n",
    "\n",
    "#### Methods\n",
    "\n",
    "  - updateatom!\n",
    "  - updatebond!\n",
    "  - unlinkatom!\n",
    "  - unlinkbond!"
   ]
  },
  {
   "cell_type": "markdown",
   "metadata": {},
   "source": [
    "\n",
    "### VectorMol\n",
    "\n",
    "`VectorMol` is vector(array)-based molecular model which is specialized for element-wise fast computation of molecular properties.\n",
    "\n",
    "`VectorMol` can iterate over atom properties faster than `MapMol`and can store calculated molecular properties and annotation arrays which are suitable for vector computation. On the other hand, `VectorMol` does not have abilities to modify its graph structure (adding or removing elements). `VectorMol` can be converted to `MapMol` but the calculated properties and annotations will be lost.\n",
    "\n",
    "\n",
    " #### Common methods\n",
    " \n",
    "  - mapmol\n"
   ]
  },
  {
   "cell_type": "markdown",
   "metadata": {},
   "source": [
    "## Atom\n",
    "\n",
    "- AbstractNode\n",
    "  - AbstractAtom\n",
    "    - Atom\n",
    "      - SDFileAtom\n",
    "      - SmilesAtom\n",
    "    - QueryAtom\n",
    "      - SmartsAtom\n"
   ]
  },
  {
   "cell_type": "markdown",
   "metadata": {},
   "source": [
    "## Bond\n",
    "\n",
    "- AbstractEdge\n",
    "  - AbstractBond\n",
    "    - Bond\n",
    "      - SDFileBond\n",
    "      - SmilesBond\n",
    "    - QueryBond\n",
    "      - SmartsBond\n"
   ]
  }
 ],
 "metadata": {
  "kernelspec": {
   "display_name": "Julia 1.0.1",
   "language": "julia",
   "name": "julia-1.0"
  },
  "language_info": {
   "file_extension": ".jl",
   "mimetype": "application/julia",
   "name": "julia",
   "version": "1.0.1"
  }
 },
 "nbformat": 4,
 "nbformat_minor": 2
}
