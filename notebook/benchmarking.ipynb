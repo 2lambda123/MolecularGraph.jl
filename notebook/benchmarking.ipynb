{
 "cells": [
  {
   "cell_type": "code",
   "execution_count": 1,
   "metadata": {
    "ExecuteTime": {
     "end_time": "2018-11-21T14:38:01.398000+09:00",
     "start_time": "2018-11-21T05:37:57.724Z"
    },
    "scrolled": false
   },
   "outputs": [],
   "source": [
    "\n",
    "import Pkg\n",
    "Pkg.activate(\"..\")\n",
    "using Profile\n",
    "using GraphMol\n"
   ]
  },
  {
   "cell_type": "code",
   "execution_count": null,
   "metadata": {},
   "outputs": [],
   "source": [
    "function loadsdf(path)\n",
    "    for (i, m) in enumerate(sdfilereader(open(path)))\n",
    "        drawsvg!(m, 400, 400)\n",
    "    end\n",
    "    println(\"ok\")\n",
    "    return\n",
    "end\n",
    "\n",
    "demo = joinpath(dirname(@__FILE__), \"..\", \"assets\", \"test\", \"demo.mol\")\n",
    "loadsdf(demo)"
   ]
  },
  {
   "cell_type": "code",
   "execution_count": 3,
   "metadata": {
    "ExecuteTime": {
     "end_time": "2018-11-07T13:32:00.008000+09:00",
     "start_time": "2018-11-07T04:31:57.954Z"
    }
   },
   "outputs": [
    {
     "name": "stdout",
     "output_type": "stream",
     "text": [
      "ok\n"
     ]
    }
   ],
   "source": [
    "mols =  joinpath(dirname(@__FILE__), \"..\", \"_resources\", \"DrugBank_FDA_Approved.sdf\")\n",
    "\n",
    "# @profile loadsdf(mols)\n",
    "# Profile.print()\n",
    "\n",
    "loadsdf(mols)"
   ]
  },
  {
   "cell_type": "code",
   "execution_count": 17,
   "metadata": {
    "ExecuteTime": {
     "end_time": "2018-11-21T14:48:42.304000+09:00",
     "start_time": "2018-11-21T05:48:42.296Z"
    }
   },
   "outputs": [
    {
     "name": "stdout",
     "output_type": "stream",
     "text": [
      "GMapMol{SmilesAtom,SmilesBond}(GraphMol.Graph.MutableUDGraph{SmilesAtom,SmilesBond}(Dict(2=>SmilesAtom(:N, 0, 1, nothing, false, nothing),1=>SmilesAtom(:N, 0, 1, nothing, false, nothing)), Dict(1=>SmilesBond(1, 2, 3, false, 0)), Dict(2=>Dict(1=>1),1=>Dict(2=>1))), Dict{Symbol,Annotation}(), Dict{Any,Any}())\n",
      "GMapMol{SmilesAtom,SmilesBond}(GraphMol.Graph.MutableUDGraph{SmilesAtom,SmilesBond}(Dict(2=>SmilesAtom(:N, 0, 1, nothing, false, nothing),1=>SmilesAtom(:N, 0, 1, nothing, false, nothing)), Dict(1=>SmilesBond(1, 2, 3, false, nothing)), Dict(2=>Dict(1=>1),1=>Dict(2=>1))), Dict{Symbol,Annotation}(), Dict{Any,Any}())\n"
     ]
    }
   ],
   "source": [
    "testdata = [\n",
    "    \"N#N\",\n",
    "    \"CN=C=O\",\n",
    "    \"[Cu+2].[O-]S(=O)(=O)[O-]\",\n",
    "    \"CCC[C@@H](O)CC\\\\C=C\\\\C=C\\\\C#CC#C\\\\C=C\\\\CO\",\n",
    "    \"COC(=O)C(\\\\C)=C\\\\C1C(C)(C)[C@H]1C(=O)O[C@@H]2C(C)=C(C(=O)C2)CC=CC=C\",\n",
    "    \"OC[C@@H](O1)[C@@H](O)[C@H](O)[C@@H]2[C@@H]1c3c(O)c(OC)c(O)cc3C(=O)O2\",\n",
    "    \"CC(=O)OCCC(/C)=C\\\\C[C@H](C(C)=C)CCC=C\",\n",
    "    \"CC[C@H](O1)CC[C@@]12CCCO2\",\n",
    "    \"O=Cc1ccc(O)c(OC)c1\",\n",
    "    \"CC(=O)NCCC1=CNc2c1cc(OC)cc2\",\n",
    "    \"CCc(c1)ccc2[n+]1ccc3c2Nc4c3cccc4\",\n",
    "    \"CN1CCC[C@H]1c2cccnc2\",\n",
    "    \"CC(C)[C@@]12C[C@@H]1[C@@H](C)C(=O)C2\"\n",
    "]\n",
    "\n",
    "# \"O1C=C[C@H]([C@H]1O2)c3c2cc(OC)c4c3OC(=O)C5=C4CCC(=O)5\",\n",
    "# \"OC[C@@H](O1)[C@@H](O)[C@H](O)[C@@H](O)[C@@H](O)1\",\n",
    "# \"OCCc1c(C)[n+](=cs1)Cc2cnc(C)nc(N)2\"\n",
    "a = parsesmiles(testdata[1])\n",
    "println(a)\n",
    "b = parse(SMILES, testdata[1])\n",
    "println(b)"
   ]
  },
  {
   "cell_type": "code",
   "execution_count": 27,
   "metadata": {
    "ExecuteTime": {
     "end_time": "2018-11-21T14:51:27.519000+09:00",
     "start_time": "2018-11-21T05:51:24.947Z"
    }
   },
   "outputs": [
    {
     "name": "stdout",
     "output_type": "stream",
     "text": [
      "++++++++++++++++++++++++++++++++++++++++++++++++++++++++++++++++++++++++++++++++++++++++++++++++++++"
     ]
    }
   ],
   "source": [
    "for i in 1:1000\n",
    "    for m in testdata\n",
    "        parsesmiles(m)\n",
    "    end\n",
    "    if i %10 == 0\n",
    "        print(\"+\")\n",
    "    end\n",
    "end"
   ]
  },
  {
   "cell_type": "code",
   "execution_count": 28,
   "metadata": {
    "ExecuteTime": {
     "end_time": "2018-11-21T14:51:31.122000+09:00",
     "start_time": "2018-11-21T05:51:30.213Z"
    }
   },
   "outputs": [
    {
     "name": "stdout",
     "output_type": "stream",
     "text": [
      "++++++++++++++++++++++++++++++++++++++++++++++++++++++++++++++++++++++++++++++++++++++++++++++++++++"
     ]
    }
   ],
   "source": [
    "for i in 1:1000\n",
    "    for m in testdata\n",
    "        parse(SMILES, m)\n",
    "    end\n",
    "    if i %10 == 0\n",
    "        print(\"+\")\n",
    "    end\n",
    "end"
   ]
  }
 ],
 "metadata": {
  "kernelspec": {
   "display_name": "Julia 1.0.1",
   "language": "julia",
   "name": "julia-1.0"
  },
  "language_info": {
   "file_extension": ".jl",
   "mimetype": "application/julia",
   "name": "julia",
   "version": "1.0.1"
  }
 },
 "nbformat": 4,
 "nbformat_minor": 2
}
