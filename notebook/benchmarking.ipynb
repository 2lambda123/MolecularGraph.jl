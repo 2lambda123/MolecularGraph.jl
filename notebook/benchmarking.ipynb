{
 "cells": [
  {
   "cell_type": "code",
   "execution_count": 5,
   "metadata": {
    "ExecuteTime": {
     "end_time": "2018-11-06T11:32:51.902000+09:00",
     "start_time": "2018-11-06T02:32:50.829Z"
    },
    "scrolled": false
   },
   "outputs": [
    {
     "name": "stdout",
     "output_type": "stream",
     "text": [
      "ok\n"
     ]
    }
   ],
   "source": [
    "import Pkg\n",
    "Pkg.activate(\"..\")\n",
    "\n",
    "using Profile\n",
    "using GraphMol.GraphMolIO\n",
    "using GraphMol.Drawing\n",
    "\n",
    "function loadsdf(path)\n",
    "    for (i, m) in enumerate(loadsdfiter(open(path)))\n",
    "        drawsvg!(m, 400, 400)\n",
    "    end\n",
    "    println(\"ok\")\n",
    "    return\n",
    "end\n",
    "\n",
    "demo = joinpath(dirname(@__FILE__), \"..\", \"assets\", \"test\", \"demo.mol\")\n",
    "loadsdf(demo)\n"
   ]
  },
  {
   "cell_type": "code",
   "execution_count": 7,
   "metadata": {
    "ExecuteTime": {
     "end_time": "2018-11-06T11:33:29.353000+09:00",
     "start_time": "2018-11-06T02:33:27.332Z"
    }
   },
   "outputs": [
    {
     "name": "stdout",
     "output_type": "stream",
     "text": [
      "ok\n"
     ]
    }
   ],
   "source": [
    "mols =  joinpath(dirname(@__FILE__), \"..\", \"_resources\", \"DrugBank_FDA_Approved.sdf\")\n",
    "\n",
    "# @profile loadsdf(mols)\n",
    "# Profile.print()\n",
    "\n",
    "loadsdf(mols)"
   ]
  }
 ],
 "metadata": {
  "kernelspec": {
   "display_name": "Julia 1.0.1",
   "language": "julia",
   "name": "julia-1.0"
  },
  "language_info": {
   "file_extension": ".jl",
   "mimetype": "application/julia",
   "name": "julia",
   "version": "1.0.1"
  }
 },
 "nbformat": 4,
 "nbformat_minor": 2
}
