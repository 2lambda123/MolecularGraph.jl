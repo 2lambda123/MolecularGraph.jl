{
 "cells": [
  {
   "cell_type": "code",
   "execution_count": 1,
   "metadata": {
    "ExecuteTime": {
     "end_time": "2018-11-07T13:30:10.970000+09:00",
     "start_time": "2018-11-07T04:29:54.150Z"
    },
    "scrolled": false
   },
   "outputs": [
    {
     "name": "stdout",
     "output_type": "stream",
     "text": [
      "ok\n"
     ]
    }
   ],
   "source": [
    "import Pkg\n",
    "Pkg.activate(\"..\")\n",
    "\n",
    "using Profile\n",
    "using GraphMol\n",
    "\n",
    "function loadsdf(path)\n",
    "    for (i, m) in enumerate(sdfilereader(open(path)))\n",
    "        drawsvg!(m, 400, 400)\n",
    "    end\n",
    "    println(\"ok\")\n",
    "    return\n",
    "end\n",
    "\n",
    "demo = joinpath(dirname(@__FILE__), \"..\", \"assets\", \"test\", \"demo.mol\")\n",
    "loadsdf(demo)\n"
   ]
  },
  {
   "cell_type": "code",
   "execution_count": 3,
   "metadata": {
    "ExecuteTime": {
     "end_time": "2018-11-07T13:32:00.008000+09:00",
     "start_time": "2018-11-07T04:31:57.954Z"
    }
   },
   "outputs": [
    {
     "name": "stdout",
     "output_type": "stream",
     "text": [
      "ok\n"
     ]
    }
   ],
   "source": [
    "mols =  joinpath(dirname(@__FILE__), \"..\", \"_resources\", \"DrugBank_FDA_Approved.sdf\")\n",
    "\n",
    "# @profile loadsdf(mols)\n",
    "# Profile.print()\n",
    "\n",
    "loadsdf(mols)"
   ]
  }
 ],
 "metadata": {
  "kernelspec": {
   "display_name": "Julia 1.0.1",
   "language": "julia",
   "name": "julia-1.0"
  },
  "language_info": {
   "file_extension": ".jl",
   "mimetype": "application/julia",
   "name": "julia",
   "version": "1.0.1"
  }
 },
 "nbformat": 4,
 "nbformat_minor": 2
}
