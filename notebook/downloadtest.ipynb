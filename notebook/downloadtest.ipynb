{
 "cells": [
  {
   "cell_type": "code",
   "execution_count": 3,
   "metadata": {
    "ExecuteTime": {
     "end_time": "2018-10-18T13:28:30.007000+09:00",
     "start_time": "2018-10-18T04:28:27.299Z"
    }
   },
   "outputs": [
    {
     "name": "stderr",
     "output_type": "stream",
     "text": [
      "  % Total    % Received % Xferd  Average Speed   Time    Time     Time  Current\n",
      "                                 Dload  Upload   Total   Spent    Left  Speed\n",
      "100   479    0   479    0     0   1629      0 --:--:-- --:--:-- --:--:--  1634\n",
      "100 3247k  100 3247k    0     0  1958k      0  0:00:01  0:00:01 --:--:-- 3193k\n"
     ]
    },
    {
     "data": {
      "text/plain": [
       "\"../_resources/DrugBankAll.sdf\""
      ]
     },
     "execution_count": 3,
     "metadata": {},
     "output_type": "execute_result"
    }
   ],
   "source": [
    "import Pkg\n",
    "Pkg.activate(\"..\")\n",
    "\n",
    "using GraphMol.GraphMolIO\n",
    "\n",
    "download(\n",
    "    \"https://www.drugbank.ca/releases/5-1-1/downloads/all-open-structures\",\n",
    "    joinpath(dirname(@__FILE__), \"..\", \"_resources\", \"DrugBankAll.sdf\")\n",
    ")"
   ]
  }
 ],
 "metadata": {
  "kernelspec": {
   "display_name": "Julia 1.0.1",
   "language": "julia",
   "name": "julia-1.0"
  },
  "language_info": {
   "file_extension": ".jl",
   "mimetype": "application/julia",
   "name": "julia",
   "version": "1.0.1"
  }
 },
 "nbformat": 4,
 "nbformat_minor": 2
}
